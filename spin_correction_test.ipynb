{
 "cells": [
  {
   "cell_type": "markdown",
   "metadata": {},
   "source": [
    "'kinematic-corrections.py' from commit 'fead868' of https://github.com/kateharborne/kinematic_corrections is used for this code.\n",
    "\n",
    "## how to run this example:\n",
    "\n",
    "- git clone https://github.com/astrohchung/spin_correction_test\n",
    "- enter the directory\n",
    "- git submodule add https://github.com/kateharborne/kinematic_corrections\n",
    "- change the permission of './kinematic_corrections/kinematic-corrections.py' file to executable.\n",
    "- cd kinematic_corrections\n",
    "- chmod 777 kinematic-corrections.py\n",
    "- checkout spin_correction_test.ipynb"
   ]
  },
  {
   "cell_type": "code",
   "execution_count": 1,
   "metadata": {
    "ExecuteTime": {
     "end_time": "2021-07-11T05:08:30.487231Z",
     "start_time": "2021-07-11T05:08:30.256654Z"
    }
   },
   "outputs": [],
   "source": [
    "import numpy as np\n",
    "import pandas as pd\n",
    "import matplotlib.pyplot as plt\n",
    "from os import system\n"
   ]
  },
  {
   "cell_type": "code",
   "execution_count": 2,
   "metadata": {
    "ExecuteTime": {
     "end_time": "2021-07-11T05:08:30.545859Z",
     "start_time": "2021-07-11T05:08:30.535063Z"
    }
   },
   "outputs": [
    {
     "name": "stdout",
     "output_type": "stream",
     "text": [
      "0.45 0.6226687931537687\n"
     ]
    }
   ],
   "source": [
    "#correction function manually quoted from Harborne2020 (for elr, not lr)\n",
    "#equation (18) and (A1) from Harborne2020\n",
    "def f_por(por):\n",
    "    return (7.49/(1+np.exp(4.01*por**1.57+2.84))-0.41)\n",
    "\n",
    "def f_e_n_rfac(e,n,rfac):\n",
    "    return (0.02*np.log10(e)-0.19*np.log10(n)-0.13*rfac+0.28)\n",
    "\n",
    "def dl_corr(por, e, n, rfac):\n",
    "    return (f_por(por)+por*f_e_n_rfac(e,n,rfac))\n",
    "\n",
    "#when psf_over_re=0.45, n=1, e=1, rfac=1\n",
    "psf_over_re_check=0.45\n",
    "n=1\n",
    "e=1\n",
    "rfac=1\n",
    "lr_obs_over_lr_corr=1/10**(-dl_corr(psf_over_re_check, e, n, rfac))\n",
    "print(psf_over_re_check, lr_obs_over_lr_corr)\n"
   ]
  },
  {
   "cell_type": "code",
   "execution_count": 3,
   "metadata": {
    "ExecuteTime": {
     "end_time": "2021-07-11T05:08:30.735125Z",
     "start_time": "2021-07-11T05:08:30.730150Z"
    }
   },
   "outputs": [],
   "source": [
    "def generate_h20_corr_data(ndata=50, e=1, n=1, Reff_fac=1, filename='test_input.csv'):\n",
    "    ndata=50\n",
    "    psf_over_re=np.arange(ndata)/ndata*0.45+0.05\n",
    "    obs_lr=np.ones(ndata)\n",
    "    obs_elr=np.ones(ndata)\n",
    "    # e=np.ones(ndata)*0.001\n",
    "    e_in=np.ones(ndata)*e\n",
    "    n_in=np.ones(ndata)*n\n",
    "    Reff_fac_in=np.ones(ndata)*Reff_fac\n",
    "    # Re=np.ones(ndata)*1\n",
    "\n",
    "    test_df=pd.DataFrame(\n",
    "        {\n",
    "            'psf_over_re':psf_over_re,\n",
    "            'obs_lr':obs_lr,\n",
    "            'obs_elr':obs_elr,\n",
    "            'e':e_in,\n",
    "            'n':n_in,\n",
    "            'Reff_fac':Reff_fac_in,\n",
    "    #         'Re':Re,\n",
    "    #         'fwhm':fwhm,\n",
    "        }\n",
    "    )\n",
    "    test_df.to_csv(filename)"
   ]
  },
  {
   "cell_type": "code",
   "execution_count": 4,
   "metadata": {
    "ExecuteTime": {
     "end_time": "2021-07-11T05:08:31.644029Z",
     "start_time": "2021-07-11T05:08:30.907322Z"
    }
   },
   "outputs": [
    {
     "name": "stdout",
     "output_type": "stream",
     "text": [
      "./kinematic_corrections/kinematic-corrections.py -i \"sample_input_n1_e1.csv\" -o \"sample_output_n1_e1.csv\"\n",
      "./kinematic_corrections/kinematic-corrections.py -i \"sample_input_n1_e001.csv\" -o \"sample_output_n1_e001.csv\"\n"
     ]
    },
    {
     "data": {
      "text/plain": [
       "0"
      ]
     },
     "execution_count": 4,
     "metadata": {},
     "output_type": "execute_result"
    }
   ],
   "source": [
    "#generate n=1, e=1 data\n",
    "sample_data_filename='sample_input_n1_e1.csv'\n",
    "generate_h20_corr_data(ndata=50, e=1, n=1, Reff_fac=1, filename=sample_data_filename)\n",
    "sample_data_corr_filename='sample_output_n1_e1.csv'\n",
    "\n",
    "dqt='\"'\n",
    "cmd='./kinematic_corrections/kinematic-corrections.py'+' -i '+dqt+sample_data_filename+dqt+' -o '+dqt+sample_data_corr_filename+dqt\n",
    "print(cmd)\n",
    "system(cmd)\n",
    "\n",
    "#generate n=1, e=0.01 data\n",
    "sample_data_filename='sample_input_n1_e001.csv'\n",
    "generate_h20_corr_data(ndata=50, e=0.01, n=1, Reff_fac=1, filename=sample_data_filename)\n",
    "sample_data_corr_filename='sample_output_n1_e001.csv'\n",
    "\n",
    "dqt='\"'\n",
    "cmd='./kinematic_corrections/kinematic-corrections.py'+' -i '+dqt+sample_data_filename+dqt+' -o '+dqt+sample_data_corr_filename+dqt\n",
    "print(cmd)\n",
    "system(cmd)\n"
   ]
  },
  {
   "cell_type": "code",
   "execution_count": 5,
   "metadata": {
    "ExecuteTime": {
     "end_time": "2021-07-11T05:08:31.689870Z",
     "start_time": "2021-07-11T05:08:31.679952Z"
    }
   },
   "outputs": [],
   "source": [
    "\n",
    "df_n1_e1=pd.read_csv('sample_output_n1_e1.csv')\n",
    "df_n1_e001=pd.read_csv('sample_output_n1_e001.csv')\n",
    "\n",
    "corr_elr_n1_e1=df_n1_e1['corr_elr']\n",
    "corr_elr_n1_e001=df_n1_e001['corr_elr']\n",
    "psf_over_re=df_n1_e001['psf_over_re']\n"
   ]
  },
  {
   "cell_type": "code",
   "execution_count": 6,
   "metadata": {
    "ExecuteTime": {
     "end_time": "2021-07-11T05:08:31.979198Z",
     "start_time": "2021-07-11T05:08:31.828943Z"
    }
   },
   "outputs": [
    {
     "data": {
      "image/png": "[encoded data removed]",
      "text/plain": [
       "<Figure size 432x432 with 1 Axes>"
      ]
     },
     "metadata": {
      "needs_background": "light"
     },
     "output_type": "display_data"
    }
   ],
   "source": [
    "fig=plt.figure(figsize=(6,6))\n",
    "ax=fig.add_subplot(1,1,1)\n",
    "ratio_n1_e1=1/corr_elr_n1_e1\n",
    "ratio_n1_e001=1/corr_elr_n1_e001\n",
    "ax.plot(psf_over_re, ratio_n1_e1, color='k', lw=3, linestyle='--')\n",
    "ax.plot(psf_over_re, ratio_n1_e001, color='k', lw=3, linestyle='-')\n",
    "ax.plot([psf_over_re_check],[lr_obs_over_lr_corr], 'bo')\n",
    "\n",
    "\n",
    "xr=[0.05,0.5]\n",
    "yr=[0.35,1.25]\n",
    "ax.set_xlim(xr)\n",
    "ax.set_ylim(yr)\n",
    "ax.set_title('n_sersic=1')\n",
    "ax.set_xlabel('sigma_psf / R_e^maj.')\n",
    "ax.set_ylabel('lr_obs/lr_corr')\n",
    "\n",
    "ax.tick_params(axis='both', which='both', direction='in', left=True, right=True, top=True, bottom=True)\n",
    "#the difference between the dahsed line and blue dot is due to the difference in constants of correction function used. \n",
    "#The paper has two significant digits for the correction coefficient. \n",
    "#The correction function uploaded on GitHub contains more significant digits.  \n",
    "#see https://github.com/kateharborne/kinematic_corrections/blob/master/kinematic-corrections.py"
   ]
  },
  {
   "cell_type": "code",
   "execution_count": null,
   "metadata": {},
   "outputs": [],
   "source": []
  },
  {
   "cell_type": "code",
   "execution_count": null,
   "metadata": {},
   "outputs": [],
   "source": []
  }
 ],
 "metadata": {
  "kernelspec": {
   "display_name": "Python 3",
   "language": "python",
   "name": "python3"
  },
  "language_info": {
   "codemirror_mode": {
    "name": "ipython",
    "version": 3
   },
   "file_extension": ".py",
   "mimetype": "text/x-python",
   "name": "python",
   "nbconvert_exporter": "python",
   "pygments_lexer": "ipython3",
   "version": "3.7.4"
  },
  "varInspector": {
   "cols": {
    "lenName": 16,
    "lenType": 16,
    "lenVar": 40
   },
   "kernels_config": {
    "python": {
     "delete_cmd_postfix": "",
     "delete_cmd_prefix": "del ",
     "library": "var_list.py",
     "varRefreshCmd": "print(var_dic_list())"
    },
    "r": {
     "delete_cmd_postfix": ") ",
     "delete_cmd_prefix": "rm(",
     "library": "var_list.r",
     "varRefreshCmd": "cat(var_dic_list()) "
    }
   },
   "types_to_exclude": [
    "module",
    "function",
    "builtin_function_or_method",
    "instance",
    "_Feature"
   ],
   "window_display": false
  }
 },
 "nbformat": 4,
 "nbformat_minor": 2
}
